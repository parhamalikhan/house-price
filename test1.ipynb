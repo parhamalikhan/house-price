{
  "nbformat": 4,
  "nbformat_minor": 0,
  "metadata": {
    "colab": {
      "provenance": [],
      "mount_file_id": "1ZPaUnQMr9YCb2D6a1atuWGibPo5Fwq-_",
      "authorship_tag": "ABX9TyOVabVN7TIq6fm8XWYWT2Nk",
      "include_colab_link": true
    },
    "kernelspec": {
      "name": "python3",
      "display_name": "Python 3"
    },
    "language_info": {
      "name": "python"
    }
  },
  "cells": [
    {
      "cell_type": "markdown",
      "metadata": {
        "id": "view-in-github",
        "colab_type": "text"
      },
      "source": [
        "<a href=\"https://colab.research.google.com/github/parhamalikhan/house-price/blob/main/test1.ipynb\" target=\"_parent\"><img src=\"https://colab.research.google.com/assets/colab-badge.svg\" alt=\"Open In Colab\"/></a>"
      ]
    },
    {
      "cell_type": "code",
      "execution_count": 3,
      "metadata": {
        "colab": {
          "base_uri": "https://localhost:8080/"
        },
        "id": "uZk3aSdDSD1Y",
        "outputId": "e2ca49ad-156a-4914-f66b-363b666e0c28"
      },
      "outputs": [
        {
          "output_type": "stream",
          "name": "stdout",
          "text": [
            "   Id  MSSubClass MSZoning  LotFrontage  LotArea Street Alley LotShape  \\\n",
            "0   1          60       RL         65.0     8450   Pave   NaN      Reg   \n",
            "1   2          20       RL         80.0     9600   Pave   NaN      Reg   \n",
            "2   3          60       RL         68.0    11250   Pave   NaN      IR1   \n",
            "3   4          70       RL         60.0     9550   Pave   NaN      IR1   \n",
            "4   5          60       RL         84.0    14260   Pave   NaN      IR1   \n",
            "5   6          50       RL         85.0    14115   Pave   NaN      IR1   \n",
            "6   7          20       RL         75.0    10084   Pave   NaN      Reg   \n",
            "7   8          60       RL          NaN    10382   Pave   NaN      IR1   \n",
            "8   9          50       RM         51.0     6120   Pave   NaN      Reg   \n",
            "9  10         190       RL         50.0     7420   Pave   NaN      Reg   \n",
            "\n",
            "  LandContour Utilities  ... PoolArea PoolQC  Fence MiscFeature MiscVal  \\\n",
            "0         Lvl    AllPub  ...        0    NaN    NaN         NaN       0   \n",
            "1         Lvl    AllPub  ...        0    NaN    NaN         NaN       0   \n",
            "2         Lvl    AllPub  ...        0    NaN    NaN         NaN       0   \n",
            "3         Lvl    AllPub  ...        0    NaN    NaN         NaN       0   \n",
            "4         Lvl    AllPub  ...        0    NaN    NaN         NaN       0   \n",
            "5         Lvl    AllPub  ...        0    NaN  MnPrv        Shed     700   \n",
            "6         Lvl    AllPub  ...        0    NaN    NaN         NaN       0   \n",
            "7         Lvl    AllPub  ...        0    NaN    NaN        Shed     350   \n",
            "8         Lvl    AllPub  ...        0    NaN    NaN         NaN       0   \n",
            "9         Lvl    AllPub  ...        0    NaN    NaN         NaN       0   \n",
            "\n",
            "  MoSold YrSold  SaleType  SaleCondition  SalePrice  \n",
            "0      2   2008        WD         Normal     208500  \n",
            "1      5   2007        WD         Normal     181500  \n",
            "2      9   2008        WD         Normal     223500  \n",
            "3      2   2006        WD        Abnorml     140000  \n",
            "4     12   2008        WD         Normal     250000  \n",
            "5     10   2009        WD         Normal     143000  \n",
            "6      8   2007        WD         Normal     307000  \n",
            "7     11   2009        WD         Normal     200000  \n",
            "8      4   2008        WD        Abnorml     129900  \n",
            "9      1   2008        WD         Normal     118000  \n",
            "\n",
            "[10 rows x 81 columns]\n"
          ]
        }
      ],
      "source": [
        "import pandas as pd\n",
        "\n",
        "\n",
        "data_path = \"/content/drive/MyDrive/house-prices-advanced-regression-techniques/\"\n",
        "\n",
        "train_df = pd.read_csv(data_path + \"train.csv\")\n",
        "test_df = pd.read_csv(data_path + \"test.csv\")\n",
        "submission_df = pd.read_csv(data_path + \"sample_submission.csv\")\n",
        "\n",
        "print(train_df.head(10))\n"
      ]
    },
    {
      "cell_type": "code",
      "source": [
        "missing_values = train_df.isnull().sum()\n",
        "print(missing_values)\n"
      ],
      "metadata": {
        "colab": {
          "base_uri": "https://localhost:8080/"
        },
        "id": "E_QwikQOUdZB",
        "outputId": "56986fc9-92ff-45e4-c4a3-97d431c75825"
      },
      "execution_count": 9,
      "outputs": [
        {
          "output_type": "stream",
          "name": "stdout",
          "text": [
            "Id                 0\n",
            "MSSubClass         0\n",
            "MSZoning           0\n",
            "LotFrontage      259\n",
            "LotArea            0\n",
            "                ... \n",
            "MoSold             0\n",
            "YrSold             0\n",
            "SaleType           0\n",
            "SaleCondition      0\n",
            "SalePrice          0\n",
            "Length: 81, dtype: int64\n"
          ]
        }
      ]
    },
    {
      "cell_type": "code",
      "source": [
        "missing_values = missing_values[missing_values > 0]\n",
        "print(missing_values)\n"
      ],
      "metadata": {
        "colab": {
          "base_uri": "https://localhost:8080/"
        },
        "id": "PR6X1NNE8C7W",
        "outputId": "b343ef54-9c00-44a9-90de-23ba24854ee8"
      },
      "execution_count": 10,
      "outputs": [
        {
          "output_type": "stream",
          "name": "stdout",
          "text": [
            "LotFrontage      259\n",
            "Alley           1369\n",
            "MasVnrType       872\n",
            "MasVnrArea         8\n",
            "BsmtQual          37\n",
            "BsmtCond          37\n",
            "BsmtExposure      38\n",
            "BsmtFinType1      37\n",
            "BsmtFinType2      38\n",
            "Electrical         1\n",
            "FireplaceQu      690\n",
            "GarageType        81\n",
            "GarageYrBlt       81\n",
            "GarageFinish      81\n",
            "GarageQual        81\n",
            "GarageCond        81\n",
            "PoolQC          1453\n",
            "Fence           1179\n",
            "MiscFeature     1406\n",
            "dtype: int64\n"
          ]
        }
      ]
    },
    {
      "cell_type": "code",
      "source": [
        "print(missing_values)"
      ],
      "metadata": {
        "colab": {
          "base_uri": "https://localhost:8080/"
        },
        "id": "5ee9a8QV8KSZ",
        "outputId": "dec91e3b-8252-4b8d-b665-a1c74ea5ea91"
      },
      "execution_count": 7,
      "outputs": [
        {
          "output_type": "stream",
          "name": "stdout",
          "text": [
            "LotFrontage      259\n",
            "Alley           1369\n",
            "MasVnrType       872\n",
            "MasVnrArea         8\n",
            "BsmtQual          37\n",
            "BsmtCond          37\n",
            "BsmtExposure      38\n",
            "BsmtFinType1      37\n",
            "BsmtFinType2      38\n",
            "Electrical         1\n",
            "FireplaceQu      690\n",
            "GarageType        81\n",
            "GarageYrBlt       81\n",
            "GarageFinish      81\n",
            "GarageQual        81\n",
            "GarageCond        81\n",
            "PoolQC          1453\n",
            "Fence           1179\n",
            "MiscFeature     1406\n",
            "dtype: int64\n"
          ]
        }
      ]
    },
    {
      "cell_type": "code",
      "source": [
        "#Fill Missing Values\n"
      ],
      "metadata": {
        "id": "AIpXnbYiCRuN"
      },
      "execution_count": null,
      "outputs": []
    }
  ]
}