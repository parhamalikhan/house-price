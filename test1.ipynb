{
  "nbformat": 4,
  "nbformat_minor": 0,
  "metadata": {
    "colab": {
      "provenance": [],
      "mount_file_id": "1ZPaUnQMr9YCb2D6a1atuWGibPo5Fwq-_",
      "authorship_tag": "ABX9TyNN5Z8wsahMTIhErutEXZAA",
      "include_colab_link": true
    },
    "kernelspec": {
      "name": "python3",
      "display_name": "Python 3"
    },
    "language_info": {
      "name": "python"
    }
  },
  "cells": [
    {
      "cell_type": "markdown",
      "metadata": {
        "id": "view-in-github",
        "colab_type": "text"
      },
      "source": [
        "<a href=\"https://colab.research.google.com/github/parhamalikhan/house-price/blob/main/test1.ipynb\" target=\"_parent\"><img src=\"https://colab.research.google.com/assets/colab-badge.svg\" alt=\"Open In Colab\"/></a>"
      ]
    },
    {
      "cell_type": "code",
      "execution_count": 1,
      "metadata": {
        "colab": {
          "base_uri": "https://localhost:8080/"
        },
        "id": "uZk3aSdDSD1Y",
        "outputId": "494797d7-3bd0-45df-bc7b-43270769d1bc"
      },
      "outputs": [
        {
          "output_type": "stream",
          "name": "stdout",
          "text": [
            "   Id  MSSubClass MSZoning  LotFrontage  LotArea Street Alley LotShape  \\\n",
            "0   1          60       RL         65.0     8450   Pave   NaN      Reg   \n",
            "1   2          20       RL         80.0     9600   Pave   NaN      Reg   \n",
            "2   3          60       RL         68.0    11250   Pave   NaN      IR1   \n",
            "3   4          70       RL         60.0     9550   Pave   NaN      IR1   \n",
            "4   5          60       RL         84.0    14260   Pave   NaN      IR1   \n",
            "5   6          50       RL         85.0    14115   Pave   NaN      IR1   \n",
            "6   7          20       RL         75.0    10084   Pave   NaN      Reg   \n",
            "7   8          60       RL          NaN    10382   Pave   NaN      IR1   \n",
            "8   9          50       RM         51.0     6120   Pave   NaN      Reg   \n",
            "9  10         190       RL         50.0     7420   Pave   NaN      Reg   \n",
            "\n",
            "  LandContour Utilities  ... PoolArea PoolQC  Fence MiscFeature MiscVal  \\\n",
            "0         Lvl    AllPub  ...        0    NaN    NaN         NaN       0   \n",
            "1         Lvl    AllPub  ...        0    NaN    NaN         NaN       0   \n",
            "2         Lvl    AllPub  ...        0    NaN    NaN         NaN       0   \n",
            "3         Lvl    AllPub  ...        0    NaN    NaN         NaN       0   \n",
            "4         Lvl    AllPub  ...        0    NaN    NaN         NaN       0   \n",
            "5         Lvl    AllPub  ...        0    NaN  MnPrv        Shed     700   \n",
            "6         Lvl    AllPub  ...        0    NaN    NaN         NaN       0   \n",
            "7         Lvl    AllPub  ...        0    NaN    NaN        Shed     350   \n",
            "8         Lvl    AllPub  ...        0    NaN    NaN         NaN       0   \n",
            "9         Lvl    AllPub  ...        0    NaN    NaN         NaN       0   \n",
            "\n",
            "  MoSold YrSold  SaleType  SaleCondition  SalePrice  \n",
            "0      2   2008        WD         Normal     208500  \n",
            "1      5   2007        WD         Normal     181500  \n",
            "2      9   2008        WD         Normal     223500  \n",
            "3      2   2006        WD        Abnorml     140000  \n",
            "4     12   2008        WD         Normal     250000  \n",
            "5     10   2009        WD         Normal     143000  \n",
            "6      8   2007        WD         Normal     307000  \n",
            "7     11   2009        WD         Normal     200000  \n",
            "8      4   2008        WD        Abnorml     129900  \n",
            "9      1   2008        WD         Normal     118000  \n",
            "\n",
            "[10 rows x 81 columns]\n"
          ]
        }
      ],
      "source": [
        "import pandas as pd\n",
        "\n",
        "\n",
        "data_path = \"/content/drive/MyDrive/house-prices-advanced-regression-techniques/\"\n",
        "\n",
        "train_df = pd.read_csv(data_path + \"train.csv\")\n",
        "test_df = pd.read_csv(data_path + \"test.csv\")\n",
        "submission_df = pd.read_csv(data_path + \"sample_submission.csv\")\n",
        "\n",
        "print(train_df.head(10))\n"
      ]
    },
    {
      "cell_type": "code",
      "source": [
        "missing_values = train_df.isnull().sum()\n",
        "print(missing_values)\n"
      ],
      "metadata": {
        "colab": {
          "base_uri": "https://localhost:8080/"
        },
        "id": "E_QwikQOUdZB",
        "outputId": "c35b3899-7b17-4985-8fb4-71a289fabb9c"
      },
      "execution_count": 2,
      "outputs": [
        {
          "output_type": "stream",
          "name": "stdout",
          "text": [
            "Id                 0\n",
            "MSSubClass         0\n",
            "MSZoning           0\n",
            "LotFrontage      259\n",
            "LotArea            0\n",
            "                ... \n",
            "MoSold             0\n",
            "YrSold             0\n",
            "SaleType           0\n",
            "SaleCondition      0\n",
            "SalePrice          0\n",
            "Length: 81, dtype: int64\n"
          ]
        }
      ]
    },
    {
      "cell_type": "code",
      "source": [
        "missing_values = missing_values[missing_values > 0]\n",
        "print(missing_values)\n"
      ],
      "metadata": {
        "colab": {
          "base_uri": "https://localhost:8080/"
        },
        "id": "PR6X1NNE8C7W",
        "outputId": "53acc64e-c241-453a-c64d-18418efb2b8b"
      },
      "execution_count": 3,
      "outputs": [
        {
          "output_type": "stream",
          "name": "stdout",
          "text": [
            "LotFrontage      259\n",
            "Alley           1369\n",
            "MasVnrType       872\n",
            "MasVnrArea         8\n",
            "BsmtQual          37\n",
            "BsmtCond          37\n",
            "BsmtExposure      38\n",
            "BsmtFinType1      37\n",
            "BsmtFinType2      38\n",
            "Electrical         1\n",
            "FireplaceQu      690\n",
            "GarageType        81\n",
            "GarageYrBlt       81\n",
            "GarageFinish      81\n",
            "GarageQual        81\n",
            "GarageCond        81\n",
            "PoolQC          1453\n",
            "Fence           1179\n",
            "MiscFeature     1406\n",
            "dtype: int64\n"
          ]
        }
      ]
    },
    {
      "cell_type": "code",
      "source": [
        "print(missing_values)"
      ],
      "metadata": {
        "colab": {
          "base_uri": "https://localhost:8080/"
        },
        "id": "5ee9a8QV8KSZ",
        "outputId": "98d42edd-9911-46e0-e6ac-f97b6597f928"
      },
      "execution_count": 4,
      "outputs": [
        {
          "output_type": "stream",
          "name": "stdout",
          "text": [
            "LotFrontage      259\n",
            "Alley           1369\n",
            "MasVnrType       872\n",
            "MasVnrArea         8\n",
            "BsmtQual          37\n",
            "BsmtCond          37\n",
            "BsmtExposure      38\n",
            "BsmtFinType1      37\n",
            "BsmtFinType2      38\n",
            "Electrical         1\n",
            "FireplaceQu      690\n",
            "GarageType        81\n",
            "GarageYrBlt       81\n",
            "GarageFinish      81\n",
            "GarageQual        81\n",
            "GarageCond        81\n",
            "PoolQC          1453\n",
            "Fence           1179\n",
            "MiscFeature     1406\n",
            "dtype: int64\n"
          ]
        }
      ]
    },
    {
      "cell_type": "code",
      "source": [
        "#filling missing value\n",
        "#find best way among median,mean,mode\n",
        "import seaborn as sns\n",
        "import matplotlib.pyplot as plt\n",
        "numerical_cols = train_df.select_dtypes(include=[\"float64\", \"int64\"]).columns\n",
        "skewness = train_df[numerical_cols].skew()\n",
        "\n",
        "print(skewness)\n"
      ],
      "metadata": {
        "colab": {
          "base_uri": "https://localhost:8080/"
        },
        "id": "AIpXnbYiCRuN",
        "outputId": "ddeadd5e-1e49-403d-b161-51cf621fb2a1"
      },
      "execution_count": 5,
      "outputs": [
        {
          "output_type": "stream",
          "name": "stdout",
          "text": [
            "Id                0.000000\n",
            "MSSubClass        1.407657\n",
            "LotFrontage       2.163569\n",
            "LotArea          12.207688\n",
            "OverallQual       0.216944\n",
            "OverallCond       0.693067\n",
            "YearBuilt        -0.613461\n",
            "YearRemodAdd     -0.503562\n",
            "MasVnrArea        2.669084\n",
            "BsmtFinSF1        1.685503\n",
            "BsmtFinSF2        4.255261\n",
            "BsmtUnfSF         0.920268\n",
            "TotalBsmtSF       1.524255\n",
            "1stFlrSF          1.376757\n",
            "2ndFlrSF          0.813030\n",
            "LowQualFinSF      9.011341\n",
            "GrLivArea         1.366560\n",
            "BsmtFullBath      0.596067\n",
            "BsmtHalfBath      4.103403\n",
            "FullBath          0.036562\n",
            "HalfBath          0.675897\n",
            "BedroomAbvGr      0.211790\n",
            "KitchenAbvGr      4.488397\n",
            "TotRmsAbvGrd      0.676341\n",
            "Fireplaces        0.649565\n",
            "GarageYrBlt      -0.649415\n",
            "GarageCars       -0.342549\n",
            "GarageArea        0.179981\n",
            "WoodDeckSF        1.541376\n",
            "OpenPorchSF       2.364342\n",
            "EnclosedPorch     3.089872\n",
            "3SsnPorch        10.304342\n",
            "ScreenPorch       4.122214\n",
            "PoolArea         14.828374\n",
            "MiscVal          24.476794\n",
            "MoSold            0.212053\n",
            "YrSold            0.096269\n",
            "SalePrice         1.882876\n",
            "dtype: float64\n"
          ]
        }
      ]
    }
  ]
}